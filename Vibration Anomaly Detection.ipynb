{
 "cells": [
  {
   "cell_type": "code",
   "execution_count": 3,
   "metadata": {},
   "outputs": [],
   "source": [
    "import os\n",
    "import pandas as pd\n",
    "import csv\n",
    "import numpy as np\n",
    "\n",
    "#Question 3 Imports\n",
    " \n",
    "from sklearn.linear_model import Lasso, LogisticRegression\n",
    "from sklearn.feature_selection import SelectFromModel\n",
    "from sklearn.preprocessing import StandardScaler\n",
    "\n",
    "#Question 4 Imports\n",
    "from sklearn.mixture import GMM\n",
    "import numpy as np\n",
    "from sklearn.decomposition import PCA   \n",
    "\n",
    "import matplotlib.pyplot as plt"
   ]
  },
  {
   "cell_type": "code",
   "execution_count": 17,
   "metadata": {},
   "outputs": [],
   "source": [
    "#Merging the normal csv\n",
    "#Merging the normal csv\n",
    "read_columns_once = False;\n",
    "\n",
    "with open('merged_exp_normal.csv', mode='w') as file:  #Opening/Creating the file to be written in\n",
    "    csvWriterOption = csv.writer(file, delimiter=',', quotechar='\"', quoting=csv.QUOTE_MINIMAL) #setting up the csv options\n",
    "    for i in os.listdir('Datasets/Normal_Experiments'):\n",
    "        data = pd.DataFrame(pd.read_csv('Datasets/Normal_Experiments/'+i)) #Read the data and convert it to a dataframe\n",
    "        \n",
    "        if(read_columns_once == False): #Check to read the columns name only once\n",
    "            csvWriterOption.writerow(data.columns) #Write the column names\n",
    "            read_columns_once = True\n",
    "            \n",
    "        rows = data[data.Sds_Armed == 1] #grabbing the rows that contain Sds_Armed = 1\n",
    "        for j in range(len(rows)):\n",
    "            csvWriterOption.writerow(rows.iloc[j])  #Writing row by row to the file\n",
    "    "
   ]
  },
  {
   "cell_type": "code",
   "execution_count": 4,
   "metadata": {},
   "outputs": [],
   "source": [
    "#Merging the anomaly csv\n",
    "#Merging the anomaly csv\n",
    "read_columns_once = False;\n",
    "\n",
    "with open('merged_exp_contains_anomalies.csv', mode='w') as file:  #Opening/Creating the file to be written in\n",
    "    csvWriterOption = csv.writer(file, delimiter=',', quotechar='\"', quoting=csv.QUOTE_MINIMAL) #setting up the csv options\n",
    "    for i in os.listdir('Datasets/Experiments_with_Anomalies'):\n",
    "        data = pd.DataFrame(pd.read_csv('Datasets/Experiments_with_Anomalies/'+i)) #Read the data and convert it to a dataframe\n",
    "        \n",
    "        if(read_columns_once == False): #Check to read the columns name only once\n",
    "            csvWriterOption.writerow(data.columns) #Write the column names\n",
    "            read_columns_once = True\n",
    "        \n",
    "        rows = data[data.Sds_Armed == 1] #grabbing the rows that contain Sds_Armed = 1\n",
    "        for j in range(len(rows)):\n",
    "            csvWriterOption.writerow(rows.iloc[j])  #Writing row by row to the file"
   ]
  },
  {
   "cell_type": "code",
   "execution_count": 6,
   "metadata": {},
   "outputs": [],
   "source": [
    "#using the labels to get feature importance\n",
    "#using the labels to get feature importance\n",
    "data2 = pd.DataFrame(pd.read_csv('merged_exp_contains_anomalies.csv'))\n",
    "\n",
    "\n",
    "# data2['label'] = np.ones(len(data2))\n",
    "data2['label'] = data2['Anomaly_Tag']\n",
    "# allData = pd.concat( [data1, data2])\n",
    "data2 = data2.drop(['Sds_Armed','Anomaly_Tag'],axis=1)\n",
    "\n",
    "allDataY = data2['label']\n",
    "\n",
    "allDataX = data2.drop(labels='label',axis=1)\n",
    "\n",
    "allDataX = allDataX.to_numpy()\n",
    "allDataY = allDataY.to_numpy()\n"
   ]
  },
  {
   "cell_type": "code",
   "execution_count": 7,
   "metadata": {},
   "outputs": [
    {
     "name": "stdout",
     "output_type": "stream",
     "text": [
      "[0.24022123 0.16591747 0.13091697 0.14490979 0.08655645 0.07895556\n",
      " 0.07087139 0.08165114]\n"
     ]
    }
   ],
   "source": [
    "#https://towardsdatascience.com/feature-selection-techniques-in-machine-learning-with-python-f24e7da3f36e\n",
    "#https://towardsdatascience.com/feature-selection-techniques-in-machine-learning-with-python-f24e7da3f36e\n",
    "\n",
    "from sklearn.ensemble import ExtraTreesClassifier\n",
    "import matplotlib.pyplot as plt\n",
    "model = ExtraTreesClassifier()\n",
    "model.fit(allDataX,allDataY)\n",
    "print(model.feature_importances_) #use inbuilt class\n",
    "important_features = model.feature_importances_.argsort()[len(model.feature_importances_) - 2:] #Getting the two highest rank features"
   ]
  },
  {
   "cell_type": "code",
   "execution_count": 8,
   "metadata": {},
   "outputs": [],
   "source": [
    "#https://towardsdatascience.com/feature-selection-techniques-in-machine-learning-with-python-f24e7da3f36e\n",
    "#https://towardsdatascience.com/feature-selection-techniques-in-machine-learning-with-python-f24e7da3f36e\n",
    "from sklearn.feature_selection import SelectKBest\n",
    "from sklearn.feature_selection import chi2\n",
    "test = SelectKBest(score_func=chi2, k=4)\n",
    "fit = test.fit(allDataX, allDataY)\n",
    "fit.scores_"
   ]
  },
  {
   "cell_type": "code",
   "execution_count": null,
   "metadata": {},
   "outputs": [],
   "source": [
    "#https://jakevdp.github.io/PythonDataScienceHandbook/05.12-gaussian-mixtures.html\n",
    "#https://jakevdp.github.io/PythonDataScienceHandbook/05.12-gaussian-mixtures.html\n",
    "\n",
    "#Testing GMM libraries\n",
    "#Testing GMM libraries\n",
    "gmm = GMM(n_components=8,covariance_type='diag').fit(allDataX)\n",
    "probs = gmm.predict_proba(allDataX)\n",
    "probs"
   ]
  },
  {
   "cell_type": "code",
   "execution_count": 11,
   "metadata": {},
   "outputs": [
    {
     "data": {
      "text/plain": [
       "array([[ 4.56647631e-04,  9.48434221e-03,  6.30979153e-01,\n",
       "         7.75112100e-01, -2.30791684e-04,  3.49133236e-04,\n",
       "         2.79379056e-02,  1.39885049e-02],\n",
       "       [-6.78571453e-04,  7.38969146e-03,  6.18823100e-01,\n",
       "        -5.27131226e-01,  1.40579088e-05,  1.36623641e-02,\n",
       "         5.49147342e-01,  1.93354883e-01]])"
      ]
     },
     "execution_count": 11,
     "metadata": {},
     "output_type": "execute_result"
    }
   ],
   "source": [
    "#https://scikit-learn.org/stable/modules/generated/sklearn.decomposition.PCA.html\n",
    "#https://scikit-learn.org/stable/modules/generated/sklearn.decomposition.PCA.html\n",
    "\n",
    "#Using PCA for dimisionality reduction\n",
    "#Using PCA for dimisionality reduction\n",
    "pca = PCA(n_components=2)\n",
    "pca.fit(allDataX)\n",
    "pca.explained_variance_ratio_\n",
    "pca.components_"
   ]
  },
  {
   "cell_type": "code",
   "execution_count": 15,
   "metadata": {},
   "outputs": [
    {
     "name": "stdout",
     "output_type": "stream",
     "text": [
      "Covariance Matrix for all Feature\n",
      "[[2.37000e-01 4.70000e-01 3.82800e+00 1.28300e+00 1.42000e-01 2.81000e-01\n",
      "  2.03400e+00 7.18000e-01]\n",
      " [4.70000e-01 9.79000e-01 9.23100e+00 2.87600e+00 2.74000e-01 5.81000e-01\n",
      "  5.07400e+00 1.61900e+00]\n",
      " [3.82800e+00 9.23100e+00 1.93223e+02 4.20860e+01 1.95600e+00 5.18300e+00\n",
      "  1.12064e+02 2.43730e+01]\n",
      " [1.28300e+00 2.87600e+00 4.20860e+01 1.20150e+01 6.71000e-01 1.56700e+00\n",
      "  2.29600e+01 6.65100e+00]\n",
      " [1.42000e-01 2.74000e-01 1.95600e+00 6.71000e-01 6.08000e-01 1.19000e+00\n",
      "  8.64500e+00 2.80700e+00]\n",
      " [2.81000e-01 5.81000e-01 5.18300e+00 1.56700e+00 1.19000e+00 2.46800e+00\n",
      "  1.96810e+01 6.13800e+00]\n",
      " [2.03400e+00 5.07400e+00 1.12064e+02 2.29600e+01 8.64500e+00 1.96810e+01\n",
      "  3.30800e+02 7.53170e+01]\n",
      " [7.18000e-01 1.61900e+00 2.43730e+01 6.65100e+00 2.80700e+00 6.13800e+00\n",
      "  7.53170e+01 2.21050e+01]]\n",
      "Means for all Features\n",
      "0    0.497500\n",
      "1    0.883802\n",
      "2    7.763045\n",
      "3    2.617440\n",
      "4    0.477496\n",
      "5    0.849776\n",
      "6    7.395009\n",
      "7    2.546401\n",
      "dtype: float64\n",
      "\n",
      "Covariance Matrix for the two highest ranked features\n",
      "[[0.97934199 0.46953585]\n",
      " [0.46953585 0.2371251 ]]\n",
      "Mean for the two highest ranked features\n",
      "0    0.883802\n",
      "1    0.497500\n",
      "dtype: float64\n",
      "\n",
      "Covariance Matrix of the 2 component PCA features\n",
      "[[4.14756274e+02 1.14233050e-13]\n",
      " [1.14233050e-13 1.37992342e+02]]\n",
      "Mean of the 2 component PCA features\n",
      "0   -1.595359e-15\n",
      "1   -1.821822e-15\n",
      "dtype: float64\n"
     ]
    }
   ],
   "source": [
    "#Reading normal data && dropping unnecessary columns\n",
    "#Reading normal data && dropping unnecessary columns\n",
    "allDataX = pd.DataFrame(pd.read_csv('merged_exp_normal.csv'))\n",
    "allDataX = allDataX.drop(['Sds_Armed','Anomaly_Tag'],axis=1)\n",
    "allDataX = allDataX.to_numpy()\n",
    "\n",
    "#Computing the covariance matrix for all features\n",
    "#Computing the covariance matrix for all features\n",
    "cov = np.zeros((len(np.array(allDataX[0])),len(np.array(allDataX[0]))));\n",
    "for i in range(len(allDataX[0])):\n",
    "    for j in range(len(allDataX[0])):\n",
    "        if (i<=j):\n",
    "            cov[i][j] = round(np.sum((allDataX[:,i] - allDataX[:,i].mean()) * (allDataX[:,j] - allDataX[:,j].mean()))/len(allDataX),3)\n",
    "        if (i<j):\n",
    "            cov[j][i] = cov[i][j]\n",
    "            \n",
    "print('Covariance Matrix for all Feature')\n",
    "print(cov)\n",
    "print('Means for all Features')\n",
    "print(pd.DataFrame(allDataX).mean())\n",
    "print('')\n",
    "\n",
    "#Using the two most important features\n",
    "#Using the two most important features\n",
    "important_features = model.feature_importances_.argsort()[len(model.feature_importances_) - 2:]\n",
    "\n",
    "#Computing the covariance matrix for the two most important features based on ranking\n",
    "#Computing the covariance matrix for the two most important features based on ranking\n",
    "cov2 = np.zeros((len(important_features),len(important_features)))\n",
    "\n",
    "for i in range(len(important_features)):\n",
    "    for j in range(len(important_features)):\n",
    "        if(i<=j):\n",
    "            cov2[i][j] = np.sum(((pd.DataFrame(allDataX[:,important_features[i]]) - pd.DataFrame(allDataX[:,important_features[i]]).mean()) * \n",
    "            (pd.DataFrame(allDataX[:,important_features[j]]) - pd.DataFrame(allDataX[:,important_features[j]]).mean()))/len(allDataX))\n",
    "        if(i<j):\n",
    "            cov2[j][i] = cov2[i][j]\n",
    "            \n",
    "print('Covariance Matrix for the two highest ranked features')\n",
    "print(cov2)\n",
    "print('Mean for the two highest ranked features')\n",
    "print(pd.DataFrame(allDataX[:,important_features[:]]).mean())\n",
    "print('')\n",
    "\n",
    "\n",
    "#computing the 2 component PCA based on the 8 columns\n",
    "#computing the 2 component PCA based on the 8 columns\n",
    "pca = PCA(n_components=2)\n",
    "pca.fit(allDataX)\n",
    "allDataXPCA = pca.transform(allDataX)\n",
    "\n",
    "#Computing the covariance for the transformed data optained from PCA\n",
    "#Computing the covariance for the transformed data optained from PCA\n",
    "cov3 = np.zeros((pca.n_components,pca.n_components))\n",
    "\n",
    "for i in range(pca.n_components):\n",
    "    for j in range(pca.n_components):\n",
    "        if (i<=j):\n",
    "            cov3[i][j] = np.sum((allDataXPCA[:,i] - allDataXPCA[:,i].mean()) * (allDataXPCA[:,j] - allDataXPCA[:,j].mean()))/len(allDataXPCA)\n",
    "        if (i<j):\n",
    "            cov3[j][i] = cov3[i][j]\n",
    "\n",
    "print('Covariance Matrix of the 2 component PCA features')\n",
    "print(cov3)\n",
    "print('Mean of the 2 component PCA features')\n",
    "print(pd.DataFrame(allDataXPCA).mean())"
   ]
  },
  {
   "cell_type": "code",
   "execution_count": 5,
   "metadata": {},
   "outputs": [
    {
     "name": "stdout",
     "output_type": "stream",
     "text": [
      "Average probability for normal DEPENDENT dataset: 0.017579128551403946\n",
      "Anything bellow the probability above is considered an anomaly\n",
      "Average probability for normal DEPENDENT dataset based on highest rank: 0.4546336937301379\n",
      "Anything bellow the probability above is considered an anomaly\n",
      "Average probability for normal DEPENDENT dataset based on highest rank: 0.0015132900537772568\n",
      "Anything bellow the probability above is considered an anomaly\n"
     ]
    }
   ],
   "source": [
    "#Function to calculate the probability based on the covariance and the mean\n",
    "#Function to calculate the probability based on the covariance and the mean\n",
    "def multivariate_normal(x, covariance,mean):\n",
    "    d = len(pd.DataFrame(x).columns)\n",
    "    x_minus_mean = x.to_numpy()-mean\n",
    "    #return (np.sqrt((2 * np.pi)**d * np.linalg.det(covariance)))\n",
    "    return (1 / (np.sqrt((2 * np.pi)**d * np.linalg.det(covariance))) * \n",
    "        np.exp(-(np.linalg.solve(covariance, x_minus_mean).T.dot(x_minus_mean)) / 2))\n",
    "#     return (1 / (np.sqrt((2 * np.pi)**d * np.linalg.det(covariance))) * \n",
    "#             np.exp(-(np.linalg.inv(covariance).dot(mean.T).dot(mean)) / 2))\n",
    "\n",
    "\n",
    "\n",
    "#Computing the avg probability of the normal data\n",
    "#Computing the avg probability of the normal data\n",
    "pNormalDependent = []\n",
    "for i in range(len(allNOTDataAnomaly)):\n",
    "    pNormalDependent.append(  multivariate_normal(allNOTDataAnomaly.iloc[i],cov,pd.DataFrame(allDataX).mean()) )\n",
    "\n",
    "    \n",
    "print('Average probability for normal DEPENDENT dataset:', np.sum(pNormalDependent)/len(pNormalDependent)) \n",
    "print('Anything bellow the probability above is considered an anomaly')\n",
    "\n",
    "#FLAG FLAG - If a probability do not surpase the the avg probability value of the normal dataset, flag else !flag\n",
    "#FLAG FLAG - If a probability do not surpase the the avg probability value of the normal dataset, flag else !flag\n",
    "#epsilon is set to be the minimal value of the normal probability\n",
    "AllFeaturesAnomalyDetectionWithIndependentCov=[]\n",
    "for i in range(len(allDataXFromAnomaly)):\n",
    "    AllFeaturesAnomalyDetectionWithIndependentCov.append( multivariate_normal(pd.DataFrame(allDataXFromAnomaly).iloc[i],cov,pd.DataFrame(allDataX).mean()) < np.sum(pNormalDependent)/len(pNormalDependent)) \n",
    "\n",
    "\n",
    "#Computing probability for most important feature\n",
    "#Computing probability for most important feature\n",
    "pNormalDependent = []\n",
    "for i in range(len(allNOTDataAnomaly)):\n",
    "    pNormalDependent.append(  multivariate_normal(allNOTDataAnomaly.iloc[i,important_features[:]],cov2,pd.DataFrame(allDataXFromAnomaly.to_numpy()[:,important_features[:]]).mean())  )\n",
    "# for i in range(len(allDataAnomaly)):\n",
    "#     pNotNormalDependent.append(  multivariate_normal(allDataAnomaly.iloc[i],cov2,allNOTDataAnomalyMeanDep)  )\n",
    "\n",
    "print('Average probability for normal DEPENDENT dataset based on highest rank:', np.sum(pNormalDependent)/len(pNormalDependent)) \n",
    "print('Anything bellow the probability above is considered an anomaly')\n",
    "\n",
    "#FLAG FLAG - If a probability do not surpase the the avg probability value of the normal dataset, flag else !flag\n",
    "#FLAG FLAG - If a probability do not surpase the the avg probability value of the normal dataset, flag else !flag\n",
    "#epsilon is set to be the minimal value of the normal probability\n",
    "\n",
    "RankedFeaturesAnomalyDetectionWithIndependentCov=[]\n",
    "for i in range(len(allDataXFromAnomaly)):\n",
    "    RankedFeaturesAnomalyDetectionWithIndependentCov.append( multivariate_normal(pd.DataFrame(allDataXFromAnomaly).iloc[i,important_features],cov2,pd.DataFrame(allDataX)[important_features].mean()) < np.sum(pNormalDependent)/len(pNormalDependent))\n",
    "\n",
    "#Computing probability for most important feature\n",
    "#Computing probability for most important feature\n",
    "pNormalDependent = []\n",
    "for i in range(len(allNOTDataAnomaly)):\n",
    "    pNormalDependent.append(  multivariate_normal(pd.DataFrame(allDataXPCA).iloc[i],cov3,pd.DataFrame(allDataXPCA).mean()) )\n",
    "# for i in range(len(allDataAnomaly)):\n",
    "#     pNotNormalDependent.append(  multivariate_normal(allDataAnomaly.iloc[i],cov2,allNOTDataAnomalyMeanDep)  )\n",
    "\n",
    "print('Average probability for normal DEPENDENT dataset based on highest rank:', np.sum(pNormalDependent)/len(pNormalDependent)) \n",
    "print('Anything bellow the probability above is considered an anomaly')\n",
    "\n",
    "#FLAG FLAG - If a probability do not surpase the the avg probability value of the normal dataset, flag else !flag\n",
    "#FLAG FLAG - If a probability do not surpase the the avg probability value of the normal dataset, flag else !flag\n",
    "#epsilon is set to be the minimal value of the normal probability\n",
    "pca = PCA(n_components=2)\n",
    "pca.fit(allDataXFromAnomaly)\n",
    "allDataXPCAAnomaly = pca.transform(allDataXFromAnomaly)\n",
    "\n",
    "PCAFeaturesAnomalyDetectionWithIndependentCov=[]\n",
    "for i in range(len(allDataXFromAnomaly)):\n",
    "    PCAFeaturesAnomalyDetectionWithIndependentCov.append( multivariate_normal(pd.DataFrame(allDataXPCAAnomaly).iloc[i],cov3,pd.DataFrame(allDataXPCA).mean()) < np.sum(pNormalDependent)/len(pNormalDependent))\n",
    "    \n",
    "\n",
    "#AllFeaturesAnomalyDetectionWithIndependentCov = (allDataXFromAnomaly[:] > np.sum(pNormalDependent)/len(pNormalDependent))"
   ]
  },
  {
   "cell_type": "code",
   "execution_count": 6,
   "metadata": {},
   "outputs": [
    {
     "data": {
      "text/plain": [
       "<matplotlib.axes._subplots.AxesSubplot at 0x117cd29e8>"
      ]
     },
     "execution_count": 6,
     "metadata": {},
     "output_type": "execute_result"
    },
    {
     "data": {
      "image/png": "[encoded data removed]",
      "text/plain": [
       "<Figure size 432x288 with 1 Axes>"
      ]
     },
     "metadata": {},
     "output_type": "display_data"
    },
    {
     "data": {
      "image/png": "[encoded data removed]",
      "text/plain": [
       "<Figure size 432x288 with 1 Axes>"
      ]
     },
     "metadata": {},
     "output_type": "display_data"
    },
    {
     "data": {
      "image/png": "[encoded data removed]",
      "text/plain": [
       "<Figure size 432x288 with 1 Axes>"
      ]
     },
     "metadata": {},
     "output_type": "display_data"
    },
    {
     "data": {
      "image/png": "[encoded data removed]",
      "text/plain": [
       "<Figure size 432x288 with 1 Axes>"
      ]
     },
     "metadata": {},
     "output_type": "display_data"
    }
   ],
   "source": [
    "#Ploting the actual anomaly and the detected anomaly\n",
    "\n",
    "dependentActualBinary = pd.DataFrame(data)['Anomaly_Tag'] == True\n",
    "#Plot with actual\n",
    "pd.DataFrame(data[dependentActualBinary]['X1']).plot(title ='Actual Anomaly')\n",
    "#Plot with all feature\n",
    "pd.DataFrame(data[AllFeaturesAnomalyDetectionWithIndependentCov]['X1']).plot(title ='Detection with all feature')\n",
    "#Plot with two highest ranked features\n",
    "pd.DataFrame(data[RankedFeaturesAnomalyDetectionWithIndependentCov]['X1']).plot(title ='Detection with two highest rank feature')\n",
    "#Plot with two PCA component\n",
    "pd.DataFrame(data[PCAFeaturesAnomalyDetectionWithIndependentCov]['X1']).plot(title ='Detection with 2component PCA')"
   ]
  },
  {
   "cell_type": "code",
   "execution_count": 9,
   "metadata": {},
   "outputs": [
    {
     "name": "stdout",
     "output_type": "stream",
     "text": [
      "Assumed number of anomalies 1202\n",
      "Actual number of anomalies 6431\n"
     ]
    }
   ],
   "source": [
    "#Testing the anomaly detection with K-MEAN clustering\n",
    "from sklearn.cluster import KMeans\n",
    "k = KMeans(n_clusters = 2).fit(allDataXFromAnomaly)\n",
    "\n",
    "print('Assumed number of anomalies',len(data[k.labels_==1]['X1']))\n",
    "print('Actual number of anomalies',len(data[dependentActualBinary]['X1']))\n",
    "\n",
    "#There are some mapping for the anomal detection with K-means"
   ]
  },
  {
   "cell_type": "code",
   "execution_count": 10,
   "metadata": {},
   "outputs": [
    {
     "name": "stdout",
     "output_type": "stream",
     "text": [
      "Scores with all feature\n",
      "             precision    recall  f1-score   support\n",
      "\n",
      "        0.0       0.93      0.36      0.52     39195\n",
      "        1.0       0.18      0.83      0.29      6431\n",
      "\n",
      "avg / total       0.82      0.43      0.49     45626\n",
      "\n",
      "Score with 2 highest ranked features\n",
      "             precision    recall  f1-score   support\n",
      "\n",
      "        0.0       0.88      0.75      0.81     39195\n",
      "        1.0       0.20      0.38      0.26      6431\n",
      "\n",
      "avg / total       0.79      0.70      0.73     45626\n",
      "\n",
      "Scores with PCA\n",
      "             precision    recall  f1-score   support\n",
      "\n",
      "        0.0       0.87      0.01      0.02     39195\n",
      "        1.0       0.14      0.99      0.25      6431\n",
      "\n",
      "avg / total       0.77      0.15      0.05     45626\n",
      "\n",
      "Scores with K-Mean\n",
      "             precision    recall  f1-score   support\n",
      "\n",
      "        0.0       0.86      0.97      0.91     39195\n",
      "        1.0       0.05      0.01      0.01      6431\n",
      "\n",
      "avg / total       0.74      0.84      0.78     45626\n",
      "\n"
     ]
    }
   ],
   "source": [
    "#Getting the scores\n",
    "#Getting the scores\n",
    "from sklearn.metrics import confusion_matrix, classification_report\n",
    "import time\n",
    "\n",
    "\n",
    "#Dependent Score\n",
    "#Dependent Score\n",
    "newAllFeaturesAnomalyDetectionWithIndependentCov= []\n",
    "for i in AllFeaturesAnomalyDetectionWithIndependentCov:\n",
    "    newAllFeaturesAnomalyDetectionWithIndependentCov.append( int(i==True))\n",
    "print('Scores with all feature')    \n",
    "print(classification_report(data['Anomaly_Tag'],newAllFeaturesAnomalyDetectionWithIndependentCov))\n",
    "\n",
    "newRankedFeaturesAnomalyDetectionWithIndependentCov= []\n",
    "for i in RankedFeaturesAnomalyDetectionWithIndependentCov:\n",
    "    newRankedFeaturesAnomalyDetectionWithIndependentCov.append( int(i==True))\n",
    "print('Score with 2 highest ranked features')\n",
    "print(classification_report(data['Anomaly_Tag'],newRankedFeaturesAnomalyDetectionWithIndependentCov))\n",
    "\n",
    "newPCAFeaturesAnomalyDetectionWithIndependentCov = []\n",
    "for i in PCAFeaturesAnomalyDetectionWithIndependentCov:\n",
    "    newPCAFeaturesAnomalyDetectionWithIndependentCov.append( int(i==True))\n",
    "print('Scores with PCA')   \n",
    "print(classification_report(data['Anomaly_Tag'],newPCAFeaturesAnomalyDetectionWithIndependentCov))\n",
    "\n",
    "\n",
    "print('Scores with K-Mean')\n",
    "print(classification_report(data['Anomaly_Tag'],k.labels_))"
   ]
  },
  {
   "cell_type": "code",
   "execution_count": 16,
   "metadata": {},
   "outputs": [
    {
     "name": "stdout",
     "output_type": "stream",
     "text": [
      "Mixture Model Time lapse during training phase with all features, dependent cov:  0.05943703651428223\n",
      "Mixture Model Time lapse during test phase with all features, dependent cov:  507.4638910293579\n",
      "K-Mean Time lapse during training phase:  0.21545696258544922\n",
      "K-Mean Time lapse during testing phase:  2.193450927734375e-05\n"
     ]
    }
   ],
   "source": [
    "#Getting the time required to compute the covariance and the mean for all features\n",
    "#Getting the time required to compute the covariance and the mean for all features\n",
    "start = time.time()\n",
    "cov = np.zeros((len(np.array(allDataX[0])),len(np.array(allDataX[0]))));\n",
    "for i in range(len(allDataX[0])):\n",
    "    for j in range(len(allDataX[0])):\n",
    "        if (i<=j):\n",
    "            cov[i][j] = round(np.sum((allDataX[:,i] - allDataX[:,i].mean()) * (allDataX[:,j] - allDataX[:,j].mean()))/len(allDataX),3)\n",
    "        if (i<j):\n",
    "            cov[j][i] = cov[i][j]\n",
    "            \n",
    "pd.DataFrame(allDataX).mean()\n",
    "end = time.time()\n",
    "print('Mixture Model Time lapse during training phase with all features, dependent cov: ',end-start)\n",
    "\n",
    "#Getting the time required to test the mixture model\n",
    "#Getting the time required to test the mixture model\n",
    "start = time.time()\n",
    "pNormalDependent = []\n",
    "for i in range(len(allNOTDataAnomaly)):\n",
    "    pNormalDependent.append(  multivariate_normal(allNOTDataAnomaly.iloc[i],cov,pd.DataFrame(allDataX).mean()) )\n",
    "end = time.time()\n",
    "print('Mixture Model Time lapse during test phase with all features, dependent cov: ',end-start)\n",
    "\n",
    "#getting the time required to compute K-means with all features\n",
    "#getting the time required to compute K-means with all features\n",
    "start = time.time()\n",
    "k= KMeans(n_clusters = 2).fit(allDataXFromAnomaly)\n",
    "end = time.time()\n",
    "print('K-Mean Time lapse during training phase: ',end-start)\n",
    "\n",
    "start = time.time()\n",
    "\n",
    "end = time.time()\n",
    "print('K-Mean Time lapse during testing phase: ',end-start)"
   ]
  },
  {
   "cell_type": "code",
   "execution_count": 36,
   "metadata": {},
   "outputs": [],
   "source": []
  },
  {
   "cell_type": "code",
   "execution_count": 12,
   "metadata": {},
   "outputs": [
    {
     "name": "stdout",
     "output_type": "stream",
     "text": [
      "Overwriting memory.py\n"
     ]
    }
   ],
   "source": [
    "#Getting the memory requirements for the different methods\n",
    "#Getting the memory requirements for the different methods\n",
    "\n",
    "%%file memory.py\n",
    "import numpy as np\n",
    "import pandas as pd\n",
    "from sklearn.cluster import KMeans\n",
    "\n",
    "allDataX = pd.DataFrame(pd.read_csv('merged_exp_normal.csv'))\n",
    "allDataX = allDataX.drop(['Sds_Armed','Anomaly_Tag'],axis=1)\n",
    "allDataX = allDataX.to_numpy()\n",
    "\n",
    "data = pd.read_csv('merged_exp_contains_anomalies.csv')\n",
    "allNOTDataAnomaly = data[data['Anomaly_Tag']==0]\n",
    "allNOTDataAnomaly = allNOTDataAnomaly.drop(['Sds_Armed','Anomaly_Tag'], axis=1)\n",
    "allDataXFromAnomaly = data.drop(['Sds_Armed','Anomaly_Tag'], axis=1)\n",
    "\n",
    "def multivariate_normal(x, covariance,mean):\n",
    "    d = len(pd.DataFrame(x).columns)\n",
    "    x_minus_mean = x.to_numpy()-mean\n",
    "    #return (np.sqrt((2 * np.pi)**d * np.linalg.det(covariance)))\n",
    "    return (1 / (np.sqrt((2 * np.pi)**d * np.linalg.det(covariance))) * \n",
    "        np.exp(-(np.linalg.solve(covariance, x_minus_mean).T.dot(x_minus_mean)) / 2))\n",
    "\n",
    "@profile\n",
    "#import memory_profiler as mem_profile\n",
    "#Getting the time required to compute the covariance and the mean for all features\n",
    "#Getting the time required to compute the covariance and the mean for all features\n",
    "\n",
    "def func():\n",
    "    cov = np.zeros((len(np.array(allDataX[0])),len(np.array(allDataX[0]))));\n",
    "    for i in range(len(allDataX[0])):\n",
    "        for j in range(len(allDataX[0])):\n",
    "            if (i<=j):\n",
    "                cov[i][j] = round(np.sum((allDataX[:,i] - allDataX[:,i].mean()) * (allDataX[:,j] - allDataX[:,j].mean()))/len(allDataX),3)\n",
    "            if (i<j):\n",
    "                cov[j][i] = cov[i][j]\n",
    "\n",
    "    pd.DataFrame(allDataX).mean()\n",
    "\n",
    "    #Getting the average \n",
    "    #Getting the time required to test the mixture model\n",
    "    pNormalDependent = []\n",
    "    for i in range(len(allNOTDataAnomaly)):\n",
    "        pNormalDependent.append(  multivariate_normal(allNOTDataAnomaly.iloc[i],cov,pd.DataFrame(allDataX).mean()) )\n",
    "\n",
    "    #Getting the time required to test the mixture model\n",
    "    #Getting the time required to test the mixture model    \n",
    "    AllFeaturesAnomalyDetectionWithIndependentCov=[]\n",
    "    for i in range(len(allDataXFromAnomaly)):\n",
    "        AllFeaturesAnomalyDetectionWithIndependentCov.append( multivariate_normal(pd.DataFrame(allDataXFromAnomaly).iloc[i],cov,pd.DataFrame(allDataX).mean()) < np.sum(pNormalDependent)/len(pNormalDependent))    \n",
    "    \n",
    "    #getting the time required to compute K-means with all features\n",
    "    #getting the time required to compute K-means with all features\n",
    "    k = KMeans(n_clusters = 2).fit(allDataXFromAnomaly)\n",
    "    kStrg = k.labels_\n",
    "\n",
    "func()\n"
   ]
  },
  {
   "cell_type": "code",
   "execution_count": 13,
   "metadata": {},
   "outputs": [
    {
     "name": "stdout",
     "output_type": "stream",
     "text": [
      "Filename: memory.py\r\n",
      "\r\n",
      "Line #    Mem usage    Increment   Line Contents\r\n",
      "================================================\r\n",
      "    21  116.988 MiB  116.988 MiB   @profile\r\n",
      "    22                             #import memory_profiler as mem_profile\r\n",
      "    23                             #Getting the time required to compute the covariance and the mean for all features\r\n",
      "    24                             #Getting the time required to compute the covariance and the mean for all features\r\n",
      "    25                             \r\n",
      "    26                             def func():\r\n",
      "    27  116.992 MiB    0.004 MiB       cov = np.zeros((len(np.array(allDataX[0])),len(np.array(allDataX[0]))));\r\n",
      "    28  119.816 MiB    0.000 MiB       for i in range(len(allDataX[0])):\r\n",
      "    29  119.816 MiB    0.000 MiB           for j in range(len(allDataX[0])):\r\n",
      "    30  119.816 MiB    0.000 MiB               if (i<=j):\r\n",
      "    31  119.816 MiB    2.824 MiB                   cov[i][j] = round(np.sum((allDataX[:,i] - allDataX[:,i].mean()) * (allDataX[:,j] - allDataX[:,j].mean()))/len(allDataX),3)\r\n",
      "    32  119.816 MiB    0.000 MiB               if (i<j):\r\n",
      "    33  119.816 MiB    0.000 MiB                   cov[j][i] = cov[i][j]\r\n",
      "    34                             \r\n",
      "    35  128.848 MiB    9.031 MiB       pd.DataFrame(allDataX).mean()\r\n",
      "    36                             \r\n",
      "    37                                 #Getting the average \r\n",
      "    38                                 #Getting the time required to test the mixture model\r\n",
      "    39  128.848 MiB    0.000 MiB       pNormalDependent = []\r\n",
      "    40  129.387 MiB    0.000 MiB       for i in range(len(allNOTDataAnomaly)):\r\n",
      "    41  129.387 MiB    0.125 MiB           pNormalDependent.append(  multivariate_normal(allNOTDataAnomaly.iloc[i],cov,pd.DataFrame(allDataX).mean()) )\r\n",
      "    42                             \r\n",
      "    43                                 #Getting the time required to test the mixture model\r\n",
      "    44                                 #Getting the time required to test the mixture model    \r\n",
      "    45  129.387 MiB    0.000 MiB       AllFeaturesAnomalyDetectionWithIndependentCov=[]\r\n",
      "    46  129.738 MiB    0.000 MiB       for i in range(len(allDataXFromAnomaly)):\r\n",
      "    47  129.738 MiB    0.109 MiB           AllFeaturesAnomalyDetectionWithIndependentCov.append( multivariate_normal(pd.DataFrame(allDataXFromAnomaly).iloc[i],cov,pd.DataFrame(allDataX).mean()) < np.sum(pNormalDependent)/len(pNormalDependent))    \r\n",
      "    48                                 \r\n",
      "    49                                 #getting the time required to compute K-means with all features\r\n",
      "    50                                 #getting the time required to compute K-means with all features\r\n",
      "    51  131.754 MiB    2.016 MiB       k = KMeans(n_clusters = 2).fit(allDataXFromAnomaly)\r\n",
      "    52  131.754 MiB    0.000 MiB       kStrg = k.labels_\r\n",
      "\r\n",
      "\r\n"
     ]
    }
   ],
   "source": [
    "!python -m memory_profiler memory.py\n",
    "#print(str(e-s))"
   ]
  }
 ],
 "metadata": {
  "kernelspec": {
   "display_name": "Python 3",
   "language": "python",
   "name": "python3"
  },
  "language_info": {
   "codemirror_mode": {
    "name": "ipython",
    "version": 3
   },
   "file_extension": ".py",
   "mimetype": "text/x-python",
   "name": "python",
   "nbconvert_exporter": "python",
   "pygments_lexer": "ipython3",
   "version": "3.6.5"
  }
 },
 "nbformat": 4,
 "nbformat_minor": 2
}
